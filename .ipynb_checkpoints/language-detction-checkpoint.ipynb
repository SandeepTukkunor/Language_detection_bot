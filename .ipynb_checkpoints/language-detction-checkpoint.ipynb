{
 "cells": [
  {
   "cell_type": "code",
   "execution_count": 1,
   "metadata": {
    "_cell_guid": "b1076dfc-b9ad-4769-8c92-a6c4dae69d19",
    "_uuid": "8f2839f25d086af736a60e9eeb907d3b93b6e0e5",
    "execution": {
     "iopub.execute_input": "2021-05-09T10:38:05.391294Z",
     "iopub.status.busy": "2021-05-09T10:38:05.390291Z",
     "iopub.status.idle": "2021-05-09T10:38:06.230337Z",
     "shell.execute_reply": "2021-05-09T10:38:06.229191Z"
    },
    "papermill": {
     "duration": 0.852226,
     "end_time": "2021-05-09T10:38:06.230517",
     "exception": false,
     "start_time": "2021-05-09T10:38:05.378291",
     "status": "completed"
    },
    "tags": []
   },
   "outputs": [],
   "source": [
    "#Importing Libraries \n",
    "\n",
    "import pandas as pd\n",
    "import numpy as np\n",
    "import re          #regular expression\n",
    "import seaborn as sns\n",
    "import matplotlib.pyplot as plt\n",
    "import warnings\n",
    "warnings.simplefilter(\"ignore\")"
   ]
  },
  {
   "cell_type": "code",
   "execution_count": 2,
   "metadata": {
    "execution": {
     "iopub.execute_input": "2021-05-09T10:38:06.252207Z",
     "iopub.status.busy": "2021-05-09T10:38:06.251606Z",
     "iopub.status.idle": "2021-05-09T10:38:06.341903Z",
     "shell.execute_reply": "2021-05-09T10:38:06.342297Z"
    },
    "papermill": {
     "duration": 0.102999,
     "end_time": "2021-05-09T10:38:06.342459",
     "exception": false,
     "start_time": "2021-05-09T10:38:06.239460",
     "status": "completed"
    },
    "tags": []
   },
   "outputs": [
    {
     "data": {
      "text/html": [
       "<div>\n",
       "<style scoped>\n",
       "    .dataframe tbody tr th:only-of-type {\n",
       "        vertical-align: middle;\n",
       "    }\n",
       "\n",
       "    .dataframe tbody tr th {\n",
       "        vertical-align: top;\n",
       "    }\n",
       "\n",
       "    .dataframe thead th {\n",
       "        text-align: right;\n",
       "    }\n",
       "</style>\n",
       "<table border=\"1\" class=\"dataframe\">\n",
       "  <thead>\n",
       "    <tr style=\"text-align: right;\">\n",
       "      <th></th>\n",
       "      <th>Text</th>\n",
       "      <th>Language</th>\n",
       "    </tr>\n",
       "  </thead>\n",
       "  <tbody>\n",
       "    <tr>\n",
       "      <th>0</th>\n",
       "      <td>Nature, in the broadest sense, is the natural...</td>\n",
       "      <td>English</td>\n",
       "    </tr>\n",
       "    <tr>\n",
       "      <th>1</th>\n",
       "      <td>\"Nature\" can refer to the phenomena of the phy...</td>\n",
       "      <td>English</td>\n",
       "    </tr>\n",
       "    <tr>\n",
       "      <th>2</th>\n",
       "      <td>The study of nature is a large, if not the onl...</td>\n",
       "      <td>English</td>\n",
       "    </tr>\n",
       "    <tr>\n",
       "      <th>3</th>\n",
       "      <td>Although humans are part of nature, human acti...</td>\n",
       "      <td>English</td>\n",
       "    </tr>\n",
       "    <tr>\n",
       "      <th>4</th>\n",
       "      <td>[1] The word nature is borrowed from the Old F...</td>\n",
       "      <td>English</td>\n",
       "    </tr>\n",
       "    <tr>\n",
       "      <th>5</th>\n",
       "      <td>[2] In ancient philosophy, natura is mostly us...</td>\n",
       "      <td>English</td>\n",
       "    </tr>\n",
       "    <tr>\n",
       "      <th>6</th>\n",
       "      <td>[3][4] \\nThe concept of nature as a whole, the...</td>\n",
       "      <td>English</td>\n",
       "    </tr>\n",
       "    <tr>\n",
       "      <th>7</th>\n",
       "      <td>During the advent of modern scientific method ...</td>\n",
       "      <td>English</td>\n",
       "    </tr>\n",
       "    <tr>\n",
       "      <th>8</th>\n",
       "      <td>[5][6] With the Industrial revolution, nature ...</td>\n",
       "      <td>English</td>\n",
       "    </tr>\n",
       "    <tr>\n",
       "      <th>9</th>\n",
       "      <td>However, a vitalist vision of nature, closer t...</td>\n",
       "      <td>English</td>\n",
       "    </tr>\n",
       "  </tbody>\n",
       "</table>\n",
       "</div>"
      ],
      "text/plain": [
       "                                                Text Language\n",
       "0   Nature, in the broadest sense, is the natural...  English\n",
       "1  \"Nature\" can refer to the phenomena of the phy...  English\n",
       "2  The study of nature is a large, if not the onl...  English\n",
       "3  Although humans are part of nature, human acti...  English\n",
       "4  [1] The word nature is borrowed from the Old F...  English\n",
       "5  [2] In ancient philosophy, natura is mostly us...  English\n",
       "6  [3][4] \\nThe concept of nature as a whole, the...  English\n",
       "7  During the advent of modern scientific method ...  English\n",
       "8  [5][6] With the Industrial revolution, nature ...  English\n",
       "9  However, a vitalist vision of nature, closer t...  English"
      ]
     },
     "execution_count": 2,
     "metadata": {},
     "output_type": "execute_result"
    }
   ],
   "source": [
    "data = pd.read_csv(\"Language Detection.csv\")\n",
    "data.head(10)"
   ]
  },
  {
   "cell_type": "code",
   "execution_count": 3,
   "metadata": {
    "execution": {
     "iopub.execute_input": "2021-05-09T10:38:06.375703Z",
     "iopub.status.busy": "2021-05-09T10:38:06.374740Z",
     "iopub.status.idle": "2021-05-09T10:38:06.378876Z",
     "shell.execute_reply": "2021-05-09T10:38:06.378402Z"
    },
    "papermill": {
     "duration": 0.027284,
     "end_time": "2021-05-09T10:38:06.379007",
     "exception": false,
     "start_time": "2021-05-09T10:38:06.351723",
     "status": "completed"
    },
    "tags": []
   },
   "outputs": [
    {
     "data": {
      "text/plain": [
       "English       1385\n",
       "French        1014\n",
       "Spanish        819\n",
       "Portugeese     739\n",
       "Italian        698\n",
       "Russian        692\n",
       "Sweedish       676\n",
       "Malayalam      594\n",
       "Dutch          546\n",
       "Arabic         536\n",
       "Turkish        474\n",
       "German         470\n",
       "Tamil          469\n",
       "Danish         428\n",
       "Kannada        369\n",
       "Greek          365\n",
       "Hindi           63\n",
       "Name: Language, dtype: int64"
      ]
     },
     "execution_count": 3,
     "metadata": {},
     "output_type": "execute_result"
    }
   ],
   "source": [
    "data[\"Language\"].value_counts() #value_counts() is used to get a Series containing counts of unique values. "
   ]
  },
  {
   "cell_type": "code",
   "execution_count": 4,
   "metadata": {
    "execution": {
     "iopub.execute_input": "2021-05-09T10:38:06.404768Z",
     "iopub.status.busy": "2021-05-09T10:38:06.404045Z",
     "iopub.status.idle": "2021-05-09T10:38:06.546590Z",
     "shell.execute_reply": "2021-05-09T10:38:06.546032Z"
    },
    "papermill": {
     "duration": 0.156709,
     "end_time": "2021-05-09T10:38:06.546735",
     "exception": false,
     "start_time": "2021-05-09T10:38:06.390026",
     "status": "completed"
    },
    "tags": []
   },
   "outputs": [],
   "source": [
    "#Separating Independent and Dependent features\n",
    "X = data[\"Text\"]\n",
    "y = data[\"Language\"]\n",
    "\n",
    "#Label Encoding to convert it into a numerical form\n",
    "from sklearn.preprocessing import LabelEncoder\n",
    "le = LabelEncoder()\n",
    "y = le.fit_transform(y)"
   ]
  },
  {
   "cell_type": "markdown",
   "metadata": {
    "papermill": {
     "duration": 0.008779,
     "end_time": "2021-05-09T10:38:06.565172",
     "exception": false,
     "start_time": "2021-05-09T10:38:06.556393",
     "status": "completed"
    },
    "tags": []
   },
   "source": [
    "TEXT PREPROCESSING"
   ]
  },
  {
   "cell_type": "code",
   "execution_count": 5,
   "metadata": {
    "execution": {
     "iopub.execute_input": "2021-05-09T10:38:06.586561Z",
     "iopub.status.busy": "2021-05-09T10:38:06.585971Z",
     "iopub.status.idle": "2021-05-09T10:38:06.648613Z",
     "shell.execute_reply": "2021-05-09T10:38:06.648163Z"
    },
    "papermill": {
     "duration": 0.07403,
     "end_time": "2021-05-09T10:38:06.648742",
     "exception": false,
     "start_time": "2021-05-09T10:38:06.574712",
     "status": "completed"
    },
    "tags": []
   },
   "outputs": [],
   "source": [
    "data_list = []\n",
    "\n",
    "# iterating through all the text\n",
    "for text in X:         \n",
    "    text = re.sub(r'[!@#$(),n\"%^*?:;~`0-9]', ' ', text)      # removing the symbols and numbers\n",
    "    text = re.sub(r'[[]]', ' ', text)   \n",
    "    text = text.lower()          # converting the text to lower case\n",
    "    data_list.append(text)       # appending to data_list"
   ]
  },
  {
   "cell_type": "code",
   "execution_count": 6,
   "metadata": {
    "execution": {
     "iopub.execute_input": "2021-05-09T10:38:06.671116Z",
     "iopub.status.busy": "2021-05-09T10:38:06.670600Z",
     "iopub.status.idle": "2021-05-09T10:38:07.230562Z",
     "shell.execute_reply": "2021-05-09T10:38:07.230070Z"
    },
    "papermill": {
     "duration": 0.572663,
     "end_time": "2021-05-09T10:38:07.230700",
     "exception": false,
     "start_time": "2021-05-09T10:38:06.658037",
     "status": "completed"
    },
    "tags": []
   },
   "outputs": [
    {
     "data": {
      "text/plain": [
       "(10337, 34937)"
      ]
     },
     "execution_count": 6,
     "metadata": {},
     "output_type": "execute_result"
    }
   ],
   "source": [
    "#Bag of Words [ converting text into numerical form by creating a Bag of Words model using CountVectorizer.]\n",
    "from sklearn.feature_extraction.text import CountVectorizer\n",
    "cv = CountVectorizer() # tokenize a collection of text documents\n",
    "X = cv.fit_transform(data_list).toarray()\n",
    "X.shape # (10337, 39419)"
   ]
  },
  {
   "cell_type": "code",
   "execution_count": 7,
   "metadata": {
    "execution": {
     "iopub.execute_input": "2021-05-09T10:38:07.255064Z",
     "iopub.status.busy": "2021-05-09T10:38:07.254310Z",
     "iopub.status.idle": "2021-05-09T10:38:09.059815Z",
     "shell.execute_reply": "2021-05-09T10:38:09.060227Z"
    },
    "papermill": {
     "duration": 1.81975,
     "end_time": "2021-05-09T10:38:09.060394",
     "exception": false,
     "start_time": "2021-05-09T10:38:07.240644",
     "status": "completed"
    },
    "tags": []
   },
   "outputs": [],
   "source": [
    "#train-test split\n",
    "from sklearn.model_selection import train_test_split\n",
    "x_train, x_test, y_train, y_test = train_test_split(X, y, test_size = 0.20, random_state=42)"
   ]
  },
  {
   "cell_type": "code",
   "execution_count": null,
   "metadata": {
    "execution": {
     "iopub.execute_input": "2021-05-09T10:38:09.083180Z",
     "iopub.status.busy": "2021-05-09T10:38:09.082574Z",
     "iopub.status.idle": "2021-05-09T10:38:38.849477Z",
     "shell.execute_reply": "2021-05-09T10:38:38.849950Z"
    },
    "papermill": {
     "duration": 29.779499,
     "end_time": "2021-05-09T10:38:38.850140",
     "exception": false,
     "start_time": "2021-05-09T10:38:09.070641",
     "status": "completed"
    },
    "tags": []
   },
   "outputs": [],
   "source": [
    "# Model Training\n",
    "from sklearn.naive_bayes import MultinomialNB  #classifier is suitable for classification with discrete features\n",
    "model = MultinomialNB()\n",
    "model.fit(x_train, y_train)"
   ]
  },
  {
   "cell_type": "code",
   "execution_count": null,
   "metadata": {
    "execution": {
     "iopub.execute_input": "2021-05-09T10:38:38.877833Z",
     "iopub.status.busy": "2021-05-09T10:38:38.877259Z",
     "iopub.status.idle": "2021-05-09T10:38:39.416087Z",
     "shell.execute_reply": "2021-05-09T10:38:39.416844Z"
    },
    "papermill": {
     "duration": 0.552152,
     "end_time": "2021-05-09T10:38:39.417097",
     "exception": false,
     "start_time": "2021-05-09T10:38:38.864945",
     "status": "completed"
    },
    "tags": []
   },
   "outputs": [],
   "source": [
    "#predict output for test dataset\n",
    "y_pred = model.predict(x_test)"
   ]
  },
  {
   "cell_type": "code",
   "execution_count": null,
   "metadata": {
    "execution": {
     "iopub.execute_input": "2021-05-09T10:38:39.465597Z",
     "iopub.status.busy": "2021-05-09T10:38:39.464692Z",
     "iopub.status.idle": "2021-05-09T10:38:39.468298Z",
     "shell.execute_reply": "2021-05-09T10:38:39.469009Z"
    },
    "papermill": {
     "duration": 0.033242,
     "end_time": "2021-05-09T10:38:39.469266",
     "exception": false,
     "start_time": "2021-05-09T10:38:39.436024",
     "status": "completed"
    },
    "tags": []
   },
   "outputs": [],
   "source": [
    "from sklearn.metrics import accuracy_score, confusion_matrix, classification_report\n",
    "ac = accuracy_score(y_test, y_pred)\n",
    "cm = confusion_matrix(y_test, y_pred)"
   ]
  },
  {
   "cell_type": "code",
   "execution_count": null,
   "metadata": {
    "execution": {
     "iopub.execute_input": "2021-05-09T10:38:39.518212Z",
     "iopub.status.busy": "2021-05-09T10:38:39.517327Z",
     "iopub.status.idle": "2021-05-09T10:38:39.521323Z",
     "shell.execute_reply": "2021-05-09T10:38:39.522016Z"
    },
    "papermill": {
     "duration": 0.029704,
     "end_time": "2021-05-09T10:38:39.522267",
     "exception": false,
     "start_time": "2021-05-09T10:38:39.492563",
     "status": "completed"
    },
    "tags": []
   },
   "outputs": [],
   "source": [
    "print(\"Accuracy is :\",ac)"
   ]
  },
  {
   "cell_type": "code",
   "execution_count": null,
   "metadata": {
    "execution": {
     "iopub.execute_input": "2021-05-09T10:38:39.563365Z",
     "iopub.status.busy": "2021-05-09T10:38:39.550937Z",
     "iopub.status.idle": "2021-05-09T10:38:40.768990Z",
     "shell.execute_reply": "2021-05-09T10:38:40.768558Z"
    },
    "papermill": {
     "duration": 1.23503,
     "end_time": "2021-05-09T10:38:40.769117",
     "exception": false,
     "start_time": "2021-05-09T10:38:39.534087",
     "status": "completed"
    },
    "tags": []
   },
   "outputs": [],
   "source": [
    "plt.figure(figsize=(15,10))\n",
    "sns.heatmap(cm, annot = True)\n",
    "plt.show()"
   ]
  },
  {
   "cell_type": "code",
   "execution_count": null,
   "metadata": {
    "execution": {
     "iopub.execute_input": "2021-05-09T10:38:40.797593Z",
     "iopub.status.busy": "2021-05-09T10:38:40.796989Z",
     "iopub.status.idle": "2021-05-09T10:38:40.799541Z",
     "shell.execute_reply": "2021-05-09T10:38:40.799920Z"
    },
    "papermill": {
     "duration": 0.019048,
     "end_time": "2021-05-09T10:38:40.800074",
     "exception": false,
     "start_time": "2021-05-09T10:38:40.781026",
     "status": "completed"
    },
    "tags": []
   },
   "outputs": [],
   "source": [
    "#Predicting with some more data\n",
    "\n",
    "def predict(text):\n",
    "     x = cv.transform([text]).toarray() # converting text to bag of words model (Vector)\n",
    "     lang = model.predict(x) # predicting the language\n",
    "     lang = le.inverse_transform(lang) # finding the language corresponding the the predicted value\n",
    "     print(\"The langauge is in\",lang[0]) # printing the language"
   ]
  },
  {
   "cell_type": "code",
   "execution_count": null,
   "metadata": {
    "execution": {
     "iopub.execute_input": "2021-05-09T10:38:40.828856Z",
     "iopub.status.busy": "2021-05-09T10:38:40.827793Z",
     "iopub.status.idle": "2021-05-09T10:38:40.842258Z",
     "shell.execute_reply": "2021-05-09T10:38:40.842970Z"
    },
    "papermill": {
     "duration": 0.031096,
     "end_time": "2021-05-09T10:38:40.843230",
     "exception": false,
     "start_time": "2021-05-09T10:38:40.812134",
     "status": "completed"
    },
    "tags": []
   },
   "outputs": [],
   "source": [
    "predict('People are awesome')"
   ]
  },
  {
   "cell_type": "code",
   "execution_count": null,
   "metadata": {
    "execution": {
     "iopub.execute_input": "2021-05-09T10:38:40.901944Z",
     "iopub.status.busy": "2021-05-09T10:38:40.900053Z",
     "iopub.status.idle": "2021-05-09T10:38:40.904431Z",
     "shell.execute_reply": "2021-05-09T10:38:40.901151Z"
    },
    "papermill": {
     "duration": 0.038253,
     "end_time": "2021-05-09T10:38:40.904652",
     "exception": false,
     "start_time": "2021-05-09T10:38:40.866399",
     "status": "completed"
    },
    "tags": []
   },
   "outputs": [],
   "source": [
    "predict('നൽകുന്നു')"
   ]
  },
  {
   "cell_type": "code",
   "execution_count": null,
   "metadata": {},
   "outputs": [],
   "source": []
  }
 ],
 "metadata": {
  "kernelspec": {
   "display_name": "Python 3",
   "language": "python",
   "name": "python3"
  },
  "language_info": {
   "codemirror_mode": {
    "name": "ipython",
    "version": 3
   },
   "file_extension": ".py",
   "mimetype": "text/x-python",
   "name": "python",
   "nbconvert_exporter": "python",
   "pygments_lexer": "ipython3",
   "version": "3.8.5"
  },
  "papermill": {
   "default_parameters": {},
   "duration": 43.803592,
   "end_time": "2021-05-09T10:38:42.288968",
   "environment_variables": {},
   "exception": null,
   "input_path": "__notebook__.ipynb",
   "output_path": "__notebook__.ipynb",
   "parameters": {},
   "start_time": "2021-05-09T10:37:58.485376",
   "version": "2.3.3"
  }
 },
 "nbformat": 4,
 "nbformat_minor": 5
}
